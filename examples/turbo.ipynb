{
 "cells": [
  {
   "cell_type": "code",
   "execution_count": 1,
   "metadata": {},
   "outputs": [
    {
     "name": "stdout",
     "output_type": "stream",
     "text": [
      "Overwriting auto display for cadquery Workplane and Shape\n",
      "True True\n",
      "-------------------------------------------------------\n",
      "Version       : 4.13.1\n",
      "License       : GNU General Public License\n",
      "Build OS      : MacOSARM-sdk\n",
      "Build date    : 20240524\n",
      "Build host    : gmsh.info\n",
      "Build options : 64Bit ALGLIB[contrib] ANN[contrib] Bamg Blas[petsc] Blossom Cgns DIntegration Dlopen DomHex Eigen[contrib] Fltk GMP Gmm[contrib] Hxt Jpeg Kbipack Lapack[petsc] MathEx[contrib] Med Mesh Metis[contrib] Mpeg Netgen Nii2mesh ONELAB ONELABMetamodel OpenCASCADE OpenCASCADE-CAF OpenGL OpenMP OptHom PETSc Parser Plugins Png Post QuadMeshingTools QuadTri Solver TetGen/BR TinyXML2[contrib] TouchBar Untangle Voro++[contrib] WinslowUntangler Zlib\n",
      "FLTK version  : 1.4.0\n",
      "PETSc version : 3.17.4 (real arithmtic)\n",
      "OCC version   : 7.7.2\n",
      "MED version   : 4.1.0\n",
      "Packaged by   : geuzaine\n",
      "Web site      : https://gmsh.info\n",
      "Issue tracker : https://gitlab.onelab.info/gmsh/gmsh/issues\n",
      "-------------------------------------------------------\n"
     ]
    },
    {
     "ename": "",
     "evalue": "",
     "output_type": "error",
     "traceback": [
      "\u001b[1;31mThe Kernel crashed while executing code in the current cell or a previous cell. \n",
      "\u001b[1;31mPlease review the code in the cell(s) to identify a possible cause of the failure. \n",
      "\u001b[1;31mClick <a href='https://aka.ms/vscodeJupyterKernelCrash'>here</a> for more info. \n",
      "\u001b[1;31mView Jupyter <a href='command:jupyter.viewOutput'>log</a> for further details."
     ]
    }
   ],
   "source": [
    "from meshql import GeometryQL, Selection\n",
    "import cadquery as cq\n",
    "\n",
    "interior_right_side = Selection(type=\"interior\", filter=lambda edge: edge.Center().x>0)\n",
    "interior_left_side = Selection(type=\"interior\", filter=lambda edge: edge.Center().x<0)\n",
    "\n",
    "\n",
    "with GeometryQL.gmsh() as geo:\n",
    "    (\n",
    "        geo\n",
    "        .load(\n",
    "            \"examples/step/rotor67.step\",\n",
    "            on_split= lambda split: (\n",
    "                split\n",
    "                .from_plane(base_pnt=(0.072*0.2, 0), angle=(90, 0, 0))\n",
    "                .from_plane(base_pnt=(-0.072*0.2, 0), angle=(90, 0, 0))\n",
    "                .group(\n",
    "                     lambda split: (\n",
    "                        split\n",
    "                        .from_ratios(\n",
    "                            start=Selection(\">Z\", type=\"interior\"), \n",
    "                            end=Selection(\"<Z\", type=\"interior\"),\n",
    "                            ratios=[0.45, 0.95],\n",
    "                            dir=\"away\",\n",
    "                            snap=True,\n",
    "                        )\n",
    "                        .from_normals(interior_left_side, axis=[(-1, 0, 0), (0, 1, 0)])\n",
    "                        .from_normals(interior_right_side, axis=[(1, 0, 0), (0.5, -1, 0)])\n",
    "                     )\n",
    "                )\n",
    "            ),\n",
    "            max_dim=10\n",
    "        )\n",
    "        # .setTransfiniteAuto(max_nodes=200)\n",
    "        # .generate(3)\n",
    "        .show(\"gmsh\")\n",
    "    )"
   ]
  }
 ],
 "metadata": {
  "kernelspec": {
   "display_name": "meshql",
   "language": "python",
   "name": "python3"
  },
  "language_info": {
   "codemirror_mode": {
    "name": "ipython",
    "version": 3
   },
   "file_extension": ".py",
   "mimetype": "text/x-python",
   "name": "python",
   "nbconvert_exporter": "python",
   "pygments_lexer": "ipython3",
   "version": "3.11.8"
  }
 },
 "nbformat": 4,
 "nbformat_minor": 2
}
