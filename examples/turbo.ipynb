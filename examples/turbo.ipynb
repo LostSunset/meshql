{
 "cells": [
  {
   "cell_type": "code",
   "execution_count": 1,
   "metadata": {},
   "outputs": [
    {
     "name": "stdout",
     "output_type": "stream",
     "text": [
      "Overwriting auto display for cadquery Workplane and Shape\n",
      "-------------------------------------------------------\n",
      "Version       : 4.11.1\n",
      "License       : GNU General Public License\n",
      "Build OS      : MacOSARM-sdk\n",
      "Build date    : 20221221\n",
      "Build host    : gmsh.info\n",
      "Build options : 64Bit ALGLIB[contrib] ANN[contrib] Bamg Blas[petsc] Blossom Cgns DIntegration Dlopen DomHex Eigen[contrib] Fltk GMP Gmm[contrib] Hxt Jpeg Kbipack Lapack[petsc] MathEx[contrib] Med Mesh Metis[contrib] Mpeg Netgen ONELAB ONELABMetamodel OpenCASCADE OpenCASCADE-CAF OpenGL OpenMP OptHom PETSc Parser Plugins Png Post QuadMeshingTools QuadTri Solver TetGen/BR TouchBar Voro++[contrib] WinslowUntangler Zlib\n",
      "FLTK version  : 1.4.0\n",
      "PETSc version : 3.17.4 (real arithmtic)\n",
      "OCC version   : 7.6.1\n",
      "MED version   : 4.1.0\n",
      "Packaged by   : geuzaine\n",
      "Web site      : https://gmsh.info\n",
      "Issue tracker : https://gitlab.onelab.info/gmsh/gmsh/issues\n",
      "-------------------------------------------------------\n"
     ]
    }
   ],
   "source": [
    "# [ ] Make interior, split, and exterior faster to identify\n",
    "# [ ] Make the parralel split edges more accurate to identify\n",
    "# [X] Make split edges snap only once to vertex\n",
    "# [ ] Make splits to just the solid of interest (until)\n",
    "# [ ] Make splits along interior edges\n",
    "# [ ] Fix 2D support\n",
    "# [ ] Fix 3 sided transfinite face (make more robust parallel edge detection)\n",
    "\n",
    "# %%\n",
    "from meshql import GeometryQL, Selector\n",
    "\n",
    "interior_right_side = Selector.create(filter=lambda edge: edge.Center().x>0)\n",
    "interior_left_side = Selector.create(filter=lambda edge: edge.Center().x<0)\n",
    "\n",
    "with GeometryQL() as geo:\n",
    "    (\n",
    "        geo\n",
    "        .load(\n",
    "            \"examples/rotor67.step\",\n",
    "            on_split= lambda split: (\n",
    "                split\n",
    "                .from_plane(base_pnt=[split.maxDim*0.05, 0], angle=(90, 0, 0))\n",
    "                .from_plane(base_pnt=[-split.maxDim*0.05, 0], angle=(90, 0, 0))\n",
    "                .from_normals(\"interior\",interior_right_side, axis=(1,0,0))\n",
    "                .from_normals(\"interior\",interior_right_side, axis=(0,-1,0))\n",
    "                .from_normals(\"interior\", interior_left_side, axis=(-1,0,0))\n",
    "                .from_normals(\"interior\",interior_left_side, axis=(0,1,0))\n",
    "            ),\n",
    "        )\n",
    "        .show(\"gmsh\")\n",
    "\n",
    "    )\n",
    "# %%\n"
   ]
  },
  {
   "cell_type": "code",
   "execution_count": null,
   "metadata": {},
   "outputs": [],
   "source": []
  }
 ],
 "metadata": {
  "kernelspec": {
   "display_name": "cadquery",
   "language": "python",
   "name": "python3"
  },
  "language_info": {
   "codemirror_mode": {
    "name": "ipython",
    "version": 3
   },
   "file_extension": ".py",
   "mimetype": "text/x-python",
   "name": "python",
   "nbconvert_exporter": "python",
   "pygments_lexer": "ipython3",
   "version": "3.11.4"
  },
  "orig_nbformat": 4
 },
 "nbformat": 4,
 "nbformat_minor": 2
}
