{
 "cells": [
  {
   "cell_type": "code",
   "execution_count": 1,
   "metadata": {},
   "outputs": [
    {
     "name": "stdout",
     "output_type": "stream",
     "text": [
      "Overwriting auto display for cadquery Workplane and Shape\n"
     ]
    }
   ],
   "source": [
    "from meshql import GeometryQL, Selection, Split\n",
    "import cProfile\n",
    "\n",
    "from meshql.utils.cq import CQUtils\n",
    "CQUtils.max_dim_multiplier = 10\n",
    "with GeometryQL.gmsh() as geo:\n",
    "    out = (\n",
    "        geo\n",
    "        .load(\n",
    "            \"examples/step/rotor67.step\",\n",
    "            on_preprocess= lambda ql: (\n",
    "                Split(ql)\n",
    "                .from_plane(base_pnt=(0.072*0.2, 0), angle=(90, 0, 0))\n",
    "                .from_plane(base_pnt=(-0.072*0.2, 0), angle=(90, 0, 0))\n",
    "                .group(\n",
    "                    lambda ql: (\n",
    "                        Split(ql)\n",
    "                        .from_ratios(\n",
    "                            start_select=Selection(\">Z\", type=\"interior\"), \n",
    "                            end_select=Selection(\"<Z\", type=\"interior\"),\n",
    "                            ratios=[0.45, 0.95],\n",
    "                            dir=\"away\",\n",
    "                            snap=True,\n",
    "                        )\n",
    "                        .from_normals(\n",
    "                            Selection(type=\"interior\", filter=lambda edge: edge.Center().x<0), \n",
    "                            axis=[(-1, 0, 0), (0, 1, 0)]\n",
    "                        )\n",
    "                        .from_normals(\n",
    "                            Selection(type=\"interior\", filter=lambda edge: edge.Center().x>0), \n",
    "                            axis=[(1, 0, 0), (0.5, -1, 0)]\n",
    "                        )\n",
    "                    )\n",
    "                )\n",
    "            ),\n",
    "        )\n",
    "\n",
    "        .setTransfiniteAuto(max_nodes=200)\n",
    "        \n",
    "        # .faces(type=\"interior\")\n",
    "        # .show()\n",
    "        # .addBoundaryLayer(0.001)\n",
    "        # .end()\n",
    "\n",
    "        # .generate(3)\n",
    "        # .show(\"gmsh\")\n",
    "    )\n",
    "# test()\n",
    "# cProfile.run(\"test()\", sort=\"cumtime\")"
   ]
  },
  {
   "cell_type": "code",
   "execution_count": 2,
   "metadata": {},
   "outputs": [
    {
     "name": "stdout",
     "output_type": "stream",
     "text": [
      "100% ⋮————————————————————————————————————————————————————————————⋮ (2/2)  0.17s\n"
     ]
    },
    {
     "data": {
      "application/vnd.jupyter.widget-view+json": {
       "model_id": "2332e797855d43e9a2e749f5bf4e107a",
       "version_major": 2,
       "version_minor": 0
      },
      "text/plain": [
       "CadViewerWidget(anchor=None, cad_width=800, glass=False, height=600, pinning=False, theme='light', title=None,…"
      ]
     },
     "metadata": {},
     "output_type": "display_data"
    },
    {
     "data": {
      "text/html": [
       "<div></div>"
      ],
      "text/plain": [
       "<IPython.core.display.HTML object>"
      ]
     },
     "metadata": {},
     "output_type": "display_data"
    }
   ],
   "source": [
    "# TODO: speed up the region selection\n",
    "new_out = (\n",
    "    out\n",
    "    .faces(type=\"interior\")\n",
    "    .show()\n",
    "    .addBoundaryLayer(0.00001)\n",
    "    .end()\n",
    ")"
   ]
  },
  {
   "cell_type": "code",
   "execution_count": 3,
   "metadata": {},
   "outputs": [
    {
     "name": "stdout",
     "output_type": "stream",
     "text": [
      "Info    : Meshing 1D...\n",
      "Info    : [  0%] Meshing curve 1 (BSpline)\n",
      "Info    : [ 10%] Meshing curve 2 (BSpline)\n",
      "Info    : [ 10%] Meshing curve 3 (BSpline)\n",
      "Info    : [ 10%] Meshing curve 4 (BSpline)\n",
      "Info    : [ 10%] Meshing curve 5 (BSpline)\n",
      "Info    : [ 10%] Meshing curve 6 (BSpline)\n",
      "Info    : [ 10%] Meshing curve 7 (BSpline)\n",
      "Info    : [ 10%] Meshing curve 8 (Line)\n",
      "Info    : [ 20%] Meshing curve 9 (Line)\n",
      "Info    : [ 20%] Meshing curve 10 (BSpline)\n",
      "Info    : [ 20%] Meshing curve 11 (Line)\n",
      "Info    : [ 20%] Meshing curve 12 (Line)\n",
      "Info    : [ 20%] Meshing curve 13 (BSpline)\n",
      "Info    : [ 20%] Meshing curve 14 (BSpline)\n",
      "Info    : [ 20%] Meshing curve 15 (BSpline)\n",
      "Info    : [ 30%] Meshing curve 16 (BSpline)\n",
      "Info    : [ 30%] Meshing curve 17 (BSpline)\n",
      "Info    : [ 30%] Meshing curve 18 (BSpline)\n",
      "Info    : [ 30%] Meshing curve 19 (Line)\n",
      "Info    : [ 30%] Meshing curve 20 (Line)\n",
      "Info    : [ 30%] Meshing curve 21 (BSpline)\n",
      "Info    : [ 30%] Meshing curve 22 (BSpline)\n",
      "Info    : [ 30%] Meshing curve 23 (BSpline)\n",
      "Info    : [ 40%] Meshing curve 24 (Line)\n",
      "Info    : [ 40%] Meshing curve 25 (Line)\n",
      "Info    : [ 40%] Meshing curve 26 (BSpline)\n",
      "Info    : [ 40%] Meshing curve 27 (Line)\n",
      "Info    : [ 40%] Meshing curve 28 (Line)\n",
      "Info    : [ 40%] Meshing curve 29 (BSpline)\n",
      "Info    : [ 40%] Meshing curve 30 (BSpline)\n",
      "Info    : [ 50%] Meshing curve 31 (BSpline)\n",
      "Info    : [ 50%] Meshing curve 32 (BSpline)\n",
      "Info    : [ 50%] Meshing curve 33 (Line)\n",
      "Info    : [ 50%] Meshing curve 34 (BSpline)\n",
      "Info    : [ 50%] Meshing curve 35 (Line)\n",
      "Info    : [ 50%] Meshing curve 36 (BSpline)\n",
      "Info    : [ 50%] Meshing curve 37 (Line)\n",
      "Info    : [ 60%] Meshing curve 38 (BSpline)\n",
      "Info    : [ 60%] Meshing curve 39 (BSpline)\n",
      "Info    : [ 60%] Meshing curve 40 (Line)\n",
      "Info    : [ 60%] Meshing curve 41 (BSpline)\n",
      "Info    : [ 60%] Meshing curve 42 (BSpline)\n",
      "Info    : [ 60%] Meshing curve 43 (Line)\n",
      "Info    : [ 60%] Meshing curve 44 (Line)\n",
      "Info    : [ 60%] Meshing curve 45 (BSpline)\n",
      "Info    : [ 70%] Meshing curve 46 (Line)\n",
      "Info    : [ 70%] Meshing curve 47 (Line)\n",
      "Info    : [ 70%] Meshing curve 48 (BSpline)\n",
      "Info    : [ 70%] Meshing curve 49 (BSpline)\n",
      "Info    : [ 70%] Meshing curve 50 (Line)\n",
      "Info    : [ 70%] Meshing curve 51 (BSpline)\n",
      "Info    : [ 70%] Meshing curve 52 (Line)\n",
      "Info    : [ 80%] Meshing curve 53 (Line)\n",
      "Info    : [ 80%] Meshing curve 54 (BSpline)\n",
      "Info    : [ 80%] Meshing curve 55 (BSpline)\n",
      "Info    : [ 80%] Meshing curve 56 (BSpline)\n",
      "Info    : [ 80%] Meshing curve 57 (Line)\n",
      "Info    : [ 80%] Meshing curve 58 (BSpline)\n",
      "Info    : [ 80%] Meshing curve 59 (BSpline)\n",
      "Info    : [ 80%] Meshing curve 60 (BSpline)\n",
      "Info    : [ 90%] Meshing curve 61 (BSpline)\n",
      "Info    : [ 90%] Meshing curve 62 (BSpline)\n",
      "Info    : [ 90%] Meshing curve 63 (BSpline)\n",
      "Info    : [ 90%] Meshing curve 64 (BSpline)\n",
      "Info    : [ 90%] Meshing curve 65 (Line)\n",
      "Info    : [ 90%] Meshing curve 66 (BSpline)\n",
      "Info    : [ 90%] Meshing curve 67 (BSpline)\n",
      "Info    : [100%] Meshing curve 68 (BSpline)\n",
      "Info    : [100%] Meshing curve 69 (Line)\n",
      "Info    : [100%] Meshing curve 70 (BSpline)\n",
      "Info    : [100%] Meshing curve 71 (BSpline)\n",
      "Info    : [100%] Meshing curve 72 (BSpline)\n",
      "Info    : [100%] Meshing curve 73 (BSpline)\n",
      "Info    : [100%] Meshing curve 74 (BSpline)\n",
      "Info    : Done meshing 1D (Wall 0.0329322s, CPU 0.032093s)\n",
      "Info    : Meshing 2D...\n",
      "Info    : [  0%] Meshing surface 1 (Transfinite)\n",
      "Info    : [ 10%] Meshing surface 2 (Transfinite)\n",
      "Info    : [ 10%] Meshing surface 3 (Transfinite)\n",
      "Info    : [ 10%] Meshing surface 4 (Transfinite)\n",
      "Info    : [ 10%] Meshing surface 5 (Transfinite)\n",
      "Info    : [ 20%] Meshing surface 6 (Transfinite)\n",
      "Info    : [ 20%] Meshing surface 7 (Transfinite)\n",
      "Info    : [ 20%] Meshing surface 8 (Transfinite)\n",
      "Info    : [ 20%] Meshing surface 9 (Transfinite)\n",
      "Info    : [ 20%] Meshing surface 10 (Transfinite)\n",
      "Info    : [ 30%] Meshing surface 11 (Transfinite)\n",
      "Info    : [ 30%] Meshing surface 12 (Transfinite)\n",
      "Info    : [ 30%] Meshing surface 13 (Transfinite)\n",
      "Info    : [ 30%] Meshing surface 14 (Transfinite)\n",
      "Info    : [ 30%] Meshing surface 15 (Transfinite)\n",
      "Info    : [ 40%] Meshing surface 16 (Transfinite)\n",
      "Info    : [ 40%] Meshing surface 17 (Transfinite)\n",
      "Info    : [ 40%] Meshing surface 18 (Transfinite)\n",
      "Info    : [ 40%] Meshing surface 19 (Transfinite)\n",
      "Info    : [ 40%] Meshing surface 20 (Transfinite)\n",
      "Info    : [ 50%] Meshing surface 21 (Transfinite)\n",
      "Info    : [ 50%] Meshing surface 22 (Transfinite)\n",
      "Info    : [ 50%] Meshing surface 23 (Transfinite)\n",
      "Info    : [ 50%] Meshing surface 24 (Transfinite)\n",
      "Info    : [ 60%] Meshing surface 25 (Transfinite)\n",
      "Info    : [ 60%] Meshing surface 26 (Transfinite)\n",
      "Info    : [ 60%] Meshing surface 27 (Transfinite)\n",
      "Info    : [ 60%] Meshing surface 28 (Transfinite)\n",
      "Info    : [ 60%] Meshing surface 29 (Transfinite)\n",
      "Info    : [ 70%] Meshing surface 30 (Transfinite)\n",
      "Info    : [ 70%] Meshing surface 31 (Transfinite)\n",
      "Info    : [ 70%] Meshing surface 32 (Transfinite)\n",
      "Info    : [ 70%] Meshing surface 33 (Transfinite)\n",
      "Info    : [ 70%] Meshing surface 34 (Transfinite)\n",
      "Info    : [ 80%] Meshing surface 35 (Transfinite)\n",
      "Info    : [ 80%] Meshing surface 36 (Transfinite)\n",
      "Info    : [ 80%] Meshing surface 37 (Transfinite)\n",
      "Info    : [ 80%] Meshing surface 38 (Transfinite)\n",
      "Info    : [ 80%] Meshing surface 39 (Transfinite)\n",
      "Info    : [ 90%] Meshing surface 40 (Transfinite)\n",
      "Info    : [ 90%] Meshing surface 41 (Transfinite)\n",
      "Info    : [ 90%] Meshing surface 42 (Transfinite)\n",
      "Info    : [ 90%] Meshing surface 43 (Transfinite)\n",
      "Info    : [ 90%] Meshing surface 44 (Transfinite)\n",
      "Info    : [100%] Meshing surface 45 (Transfinite)\n",
      "Info    : [100%] Meshing surface 46 (Transfinite)\n",
      "Info    : [100%] Meshing surface 47 (Transfinite)\n",
      "Info    : [100%] Meshing surface 48 (Transfinite)\n",
      "Info    : Done meshing 2D (Wall 0.00751246s, CPU 0.007004s)\n",
      "Info    : Meshing 3D...\n",
      "Info    : Meshing volume 1 (Transfinite)\n",
      "Info    : Meshing volume 2 (Transfinite)\n",
      "Info    : Meshing volume 3 (Transfinite)\n",
      "Info    : Meshing volume 4 (Transfinite)\n",
      "Info    : Meshing volume 5 (Transfinite)\n",
      "Info    : Meshing volume 6 (Transfinite)\n",
      "Info    : Meshing volume 7 (Transfinite)\n",
      "Info    : Meshing volume 8 (Transfinite)\n",
      "Info    : Meshing volume 9 (Transfinite)\n",
      "Info    : Meshing volume 10 (Transfinite)\n",
      "Info    : Done meshing 3D (Wall 0.2263s, CPU 0.218464s)\n",
      "Info    : Optimizing mesh...\n",
      "Info    : Done optimizing mesh (Wall 0.00150258s, CPU 0.001548s)\n",
      "Info    : 157300 nodes 179508 elements\n",
      "-------------------------------------------------------\n",
      "Version       : 4.13.1\n",
      "License       : GNU General Public License\n",
      "Build OS      : MacOSARM-sdk\n",
      "Build date    : 20240524\n",
      "Build host    : gmsh.info\n",
      "Build options : 64Bit ALGLIB[contrib] ANN[contrib] Bamg Blas[petsc] Blossom Cgns DIntegration Dlopen DomHex Eigen[contrib] Fltk GMP Gmm[contrib] Hxt Jpeg Kbipack Lapack[petsc] MathEx[contrib] Med Mesh Metis[contrib] Mpeg Netgen Nii2mesh ONELAB ONELABMetamodel OpenCASCADE OpenCASCADE-CAF OpenGL OpenMP OptHom PETSc Parser Plugins Png Post QuadMeshingTools QuadTri Solver TetGen/BR TinyXML2[contrib] TouchBar Untangle Voro++[contrib] WinslowUntangler Zlib\n",
      "FLTK version  : 1.4.0\n",
      "PETSc version : 3.17.4 (real arithmtic)\n",
      "OCC version   : 7.7.2\n",
      "MED version   : 4.1.0\n",
      "Packaged by   : geuzaine\n",
      "Web site      : https://gmsh.info\n",
      "Issue tracker : https://gitlab.onelab.info/gmsh/gmsh/issues\n",
      "-------------------------------------------------------\n"
     ]
    },
    {
     "data": {
      "text/plain": [
       "<meshql.gmsh.ql.GmshGeometryQL at 0x174a78410>"
      ]
     },
     "execution_count": 3,
     "metadata": {},
     "output_type": "execute_result"
    }
   ],
   "source": [
    "new_out.generate(3).show(\"gmsh\")"
   ]
  }
 ],
 "metadata": {
  "kernelspec": {
   "display_name": "meshql",
   "language": "python",
   "name": "python3"
  },
  "language_info": {
   "codemirror_mode": {
    "name": "ipython",
    "version": 3
   },
   "file_extension": ".py",
   "mimetype": "text/x-python",
   "name": "python",
   "nbconvert_exporter": "python",
   "pygments_lexer": "ipython3",
   "version": "3.11.8"
  }
 },
 "nbformat": 4,
 "nbformat_minor": 2
}
