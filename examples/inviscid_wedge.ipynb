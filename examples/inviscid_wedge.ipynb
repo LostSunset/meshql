{
    "cells": [
        {
            "attachments": {},
            "cell_type": "markdown",
            "metadata": {},
            "source": [
                "# Meshing"
            ]
        },
        {
            "attachments": {},
            "cell_type": "markdown",
            "metadata": {},
            "source": [
                "## Inviscid Wedge\n",
                "![Inviscid Wedge](../assets/inviscid_wedge.png)\n",
                "\n",
                "https://su2code.github.io/tutorials/Inviscid_Wedge/"
            ]
        },
        {
            "cell_type": "code",
            "execution_count": 19,
            "metadata": {},
            "outputs": [
                {
                    "name": "stdout",
                    "output_type": "stream",
                    "text": [
                        "Group cache exists, loading...\n",
                        "Split cache exists, loading ...\n",
                        "{Entity(type='face', tag=1, name=None), Entity(type='face', tag=2, name=None), Entity(type='face', tag=3, name=None), Entity(type='face', tag=4, name=None), Entity(type='face', tag=5, name=None), Entity(type='face', tag=6, name=None), Entity(type='face', tag=7, name=None), Entity(type='face', tag=8, name=None), Entity(type='face', tag=9, name=None), Entity(type='face', tag=10, name=None), Entity(type='face', tag=11, name=None)}\n"
                    ]
                }
            ],
            "source": [
                "import cadquery as cq\n",
                "from meshql import GeometryQL, Split\n",
                "\n",
                "\n",
                "with GeometryQL.gmsh() as geo:\n",
                "    geo = (\n",
                "        geo\n",
                "        .load((\n",
                "            cq.Workplane(\"XY\")\n",
                "            .polyline([(0, 1), (1.5, 1), (1.5, 0.2), (0.5, 0), (0, 0)])\n",
                "            .close()\n",
                "            ), \n",
                "            on_preprocess= lambda ql: (\n",
                "                Split(ql)\n",
                "                .from_lines(((0.5,0), (0.5,1)))\n",
                "            )\n",
                "        )\n",
                "        .setTransfiniteAuto(500)\n",
                "\n",
                "        .edges(indices=[0,1,3,4,5,6])\n",
                "        .addPhysicalGroup([\"inlet\", \"lower\", \"upper\", \"lower\", \"outlet\", \"upper\"])\n",
                "        .end()\n",
                "\n",
                "        .generate()\n",
                "        .show(\"gmsh\")\n",
                "    )\n"
            ]
        },
        {
            "cell_type": "code",
            "execution_count": null,
            "metadata": {},
            "outputs": [],
            "source": []
        }
    ],
    "metadata": {
        "kernelspec": {
            "display_name": "Python 3",
            "language": "python",
            "name": "python3"
        },
        "language_info": {
            "codemirror_mode": {
                "name": "ipython",
                "version": 3
            },
            "file_extension": ".py",
            "mimetype": "text/x-python",
            "name": "python",
            "nbconvert_exporter": "python",
            "pygments_lexer": "ipython3",
            "version": "3.11.8"
        },
        "orig_nbformat": 4,
        "vscode": {
            "interpreter": {
                "hash": "949777d72b0d2535278d3dc13498b2535136f6dfe0678499012e853ee9abcab1"
            }
        }
    },
    "nbformat": 4,
    "nbformat_minor": 2
}
