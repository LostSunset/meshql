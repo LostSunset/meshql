{
    "cells": [
        {
            "attachments": {},
            "cell_type": "markdown",
            "metadata": {},
            "source": [
                "# Meshing"
            ]
        },
        {
            "attachments": {},
            "cell_type": "markdown",
            "metadata": {},
            "source": [
                "## Inviscid Wedge\n",
                "![Inviscid Wedge](../assets/inviscid_wedge.png)\n",
                "\n",
                "https://su2code.github.io/tutorials/Inviscid_Wedge/"
            ]
        },
        {
            "cell_type": "code",
            "execution_count": 3,
            "metadata": {},
            "outputs": [
                {
                    "name": "stdout",
                    "output_type": "stream",
                    "text": [
                        "  \n"
                    ]
                },
                {
                    "data": {
                        "application/vnd.jupyter.widget-view+json": {
                            "model_id": "8067e834140549fa96416fbe81420be8",
                            "version_major": 2,
                            "version_minor": 0
                        },
                        "text/plain": [
                            "CadViewerWidget(anchor=None, cad_width=800, height=600, pinning=False, theme='light', title=None, tree_width=2…"
                        ]
                    },
                    "metadata": {},
                    "output_type": "display_data"
                },
                {
                    "data": {
                        "text/html": [
                            "<div></div>"
                        ],
                        "text/plain": [
                            "<IPython.core.display.HTML object>"
                        ]
                    },
                    "metadata": {},
                    "output_type": "display_data"
                }
            ],
            "source": [
                "import cadquery as cq\n",
                "from meshql import GeometryQL, Split\n",
                "\n",
                "\n",
                "with GeometryQL() as geo:\n",
                "    geo = (\n",
                "        geo\n",
                "        .load(  \n",
                "            cq.Workplane(\"XY\")\n",
                "            .polyline([(0, 1), (1.5, 1), (1.5, 0.2), (0.5, 0), (0, 0)])\n",
                "            .close(),\n",
                "            on_split= lambda split: (\n",
                "                split\n",
                "                .from_lines(((0.5,0), (0.5,1)))\n",
                "            )\n",
                "        )\n",
                "\n",
                "        .setTransfiniteAuto(500)\n",
                "\n",
                "        .fromTagged([f\"edge/{i}\" for i in [1,2,4,5,6,7]], \"edge\")\n",
                "        .addPhysicalGroup([\"inlet\", \"lower\", \"upper\", \"lower\", \"outlet\", \"upper\"])\n",
                "        .end()\n",
                "\n",
                "        .generate()\n",
                "        .show(\"gmsh\")\n",
                "    )\n"
            ]
        },
        {
            "cell_type": "code",
            "execution_count": null,
            "metadata": {},
            "outputs": [],
            "source": []
        }
    ],
    "metadata": {
        "kernelspec": {
            "display_name": "Python 3",
            "language": "python",
            "name": "python3"
        },
        "language_info": {
            "codemirror_mode": {
                "name": "ipython",
                "version": 3
            },
            "file_extension": ".py",
            "mimetype": "text/x-python",
            "name": "python",
            "nbconvert_exporter": "python",
            "pygments_lexer": "ipython3",
            "version": "3.11.5"
        },
        "orig_nbformat": 4,
        "vscode": {
            "interpreter": {
                "hash": "949777d72b0d2535278d3dc13498b2535136f6dfe0678499012e853ee9abcab1"
            }
        }
    },
    "nbformat": 4,
    "nbformat_minor": 2
}
