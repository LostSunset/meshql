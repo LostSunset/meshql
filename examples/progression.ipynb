{
    "cells": [
        {
            "attachments": {},
            "cell_type": "markdown",
            "metadata": {},
            "source": [
                "# Sturctured Grid with Bump\n"
            ]
        },
        {
            "cell_type": "code",
            "execution_count": 2,
            "metadata": {},
            "outputs": [
                {
                    "name": "stdout",
                    "output_type": "stream",
                    "text": [
                        "Loading exisiting split cache\n",
                        "Info    : Meshing 1D...\n",
                        "Info    : [  0%] Meshing curve 1 (Line)\n",
                        "Info    : [ 20%] Meshing curve 2 (TrimmedCurve)\n",
                        "Info    : [ 30%] Meshing curve 3 (Line)\n",
                        "Info    : [ 50%] Meshing curve 4 (Line)\n",
                        "Info    : [ 60%] Meshing curve 5 (TrimmedCurve)\n",
                        "Info    : [ 80%] Meshing curve 6 (Line)\n",
                        "Info    : [ 90%] Meshing curve 7 (Line)\n",
                        "Info    : Done meshing 1D (Wall 0.00167363s, CPU 0.001775s)\n",
                        "Info    : Meshing 2D...\n",
                        "Info    : [  0%] Meshing surface 1 (Transfinite)\n",
                        "Info    : [ 60%] Meshing surface 2 (Transfinite)\n",
                        "Info    : Done meshing 2D (Wall 0.000368708s, CPU 0.000318s)\n",
                        "Info    : Meshing 3D...\n",
                        "Info    : Done meshing 3D (Wall 4.584e-06s, CPU 4e-06s)\n",
                        "Info    : 3952 nodes 4134 elements\n",
                        "-------------------------------------------------------\n",
                        "Version       : 4.13.1\n",
                        "License       : GNU General Public License\n",
                        "Build OS      : MacOSARM-sdk\n",
                        "Build date    : 20240524\n",
                        "Build host    : gmsh.info\n",
                        "Build options : 64Bit ALGLIB[contrib] ANN[contrib] Bamg Blas[petsc] Blossom Cgns DIntegration Dlopen DomHex Eigen[contrib] Fltk GMP Gmm[contrib] Hxt Jpeg Kbipack Lapack[petsc] MathEx[contrib] Med Mesh Metis[contrib] Mpeg Netgen Nii2mesh ONELAB ONELABMetamodel OpenCASCADE OpenCASCADE-CAF OpenGL OpenMP OptHom PETSc Parser Plugins Png Post QuadMeshingTools QuadTri Solver TetGen/BR TinyXML2[contrib] TouchBar Untangle Voro++[contrib] WinslowUntangler Zlib\n",
                        "FLTK version  : 1.4.0\n",
                        "PETSc version : 3.17.4 (real arithmtic)\n",
                        "OCC version   : 7.7.2\n",
                        "MED version   : 4.1.0\n",
                        "Packaged by   : geuzaine\n",
                        "Web site      : https://gmsh.info\n",
                        "Issue tracker : https://gitlab.onelab.info/gmsh/gmsh/issues\n",
                        "-------------------------------------------------------\n"
                    ]
                }
            ],
            "source": [
                "import cadquery as cq\n",
                "from meshql import GeometryQL\n",
                "\n",
                "\n",
                "with GeometryQL.gmsh() as geo:\n",
                "    geo = (\n",
                "        geo\n",
                "        .load(  \n",
                "            cq.Workplane(\"XY\")\n",
                "            .polyline([(0,0), (1,0), (2,0.5), (2,2), (1, 2), (0,2)])\n",
                "            .close(),\n",
                "            on_preprocess=lambda split: (\n",
                "                split.from_lines(((1,0), (1,2)))\n",
                "            )\n",
                "        )\n",
                "        .setTransfiniteAuto(max_nodes=100)\n",
                "        \n",
                "        .fromTagged([f\"edge/{i}\" for i in [1, 2, 5, 6, 7, 4]])\n",
                "        .addPhysicalGroup([\"inlet\", \"freestream\", \"freestream\", \"outlet\", \"wall\", \"wall\"])\n",
                "        .end()\n",
                "\n",
                "    \n",
                "        .fromTagged([\"edge/3\"])\n",
                "        .addBoundaryLayer(0.001)\n",
                "        .end()\n",
                "\n",
                "        .generate()\n",
                "        .show(\"gmsh\")\n",
                "    )\n"
            ]
        },
        {
            "cell_type": "code",
            "execution_count": null,
            "metadata": {},
            "outputs": [],
            "source": []
        }
    ],
    "metadata": {
        "kernelspec": {
            "display_name": "Python 3",
            "language": "python",
            "name": "python3"
        },
        "language_info": {
            "codemirror_mode": {
                "name": "ipython",
                "version": 3
            },
            "file_extension": ".py",
            "mimetype": "text/x-python",
            "name": "python",
            "nbconvert_exporter": "python",
            "pygments_lexer": "ipython3",
            "version": "3.11.8"
        },
        "orig_nbformat": 4
    },
    "nbformat": 4,
    "nbformat_minor": 2
}
