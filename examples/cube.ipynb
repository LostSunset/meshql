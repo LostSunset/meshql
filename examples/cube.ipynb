{
    "cells": [
        {
            "cell_type": "code",
            "execution_count": 1,
            "metadata": {},
            "outputs": [
                {
                    "name": "stdout",
                    "output_type": "stream",
                    "text": [
                        "Overwriting auto display for cadquery Workplane and Shape\n",
                        "Info    : Meshing 1D...\n",
                        "Info    : [  0%] Meshing curve 1 (Line)\n",
                        "Info    : [ 10%] Meshing curve 2 (Line)\n",
                        "Info    : [ 10%] Meshing curve 3 (Line)\n",
                        "Info    : [ 10%] Meshing curve 4 (Line)\n",
                        "Info    : [ 20%] Meshing curve 5 (Line)\n",
                        "Info    : [ 20%] Meshing curve 6 (Line)\n",
                        "Info    : [ 20%] Meshing curve 7 (Line)\n",
                        "Info    : [ 30%] Meshing curve 8 (Line)\n",
                        "Info    : [ 30%] Meshing curve 9 (Line)\n",
                        "Info    : [ 30%] Meshing curve 10 (Line)\n",
                        "Info    : [ 40%] Meshing curve 11 (Line)\n",
                        "Info    : [ 40%] Meshing curve 12 (Line)\n",
                        "Info    : [ 40%] Meshing curve 13 (Line)\n",
                        "Info    : [ 50%] Meshing curve 14 (Line)\n",
                        "Info    : [ 50%] Meshing curve 15 (Line)\n",
                        "Info    : [ 50%] Meshing curve 16 (Line)\n",
                        "Info    : [ 60%] Meshing curve 17 (Line)\n",
                        "Info    : [ 60%] Meshing curve 18 (Line)\n",
                        "Info    : [ 60%] Meshing curve 19 (Line)\n",
                        "Info    : [ 60%] Meshing curve 20 (Line)\n",
                        "Info    : [ 70%] Meshing curve 21 (Line)\n",
                        "Info    : [ 70%] Meshing curve 22 (Line)\n",
                        "Info    : [ 70%] Meshing curve 23 (Line)\n",
                        "Info    : [ 80%] Meshing curve 24 (Line)\n",
                        "Info    : [ 80%] Meshing curve 25 (Line)\n",
                        "Info    : [ 80%] Meshing curve 26 (Line)\n",
                        "Info    : [ 90%] Meshing curve 27 (Line)\n",
                        "Info    : [ 90%] Meshing curve 28 (Line)\n",
                        "Info    : [ 90%] Meshing curve 29 (Line)\n",
                        "Info    : [100%] Meshing curve 30 (Line)\n",
                        "Info    : [100%] Meshing curve 31 (Line)\n",
                        "Info    : [100%] Meshing curve 32 (Line)\n",
                        "Info    : Done meshing 1D (Wall 0.0012505s, CPU 0.001528s)\n",
                        "Info    : Meshing 2D...\n",
                        "Info    : [  0%] Meshing surface 1 (Transfinite)\n",
                        "Info    : [ 10%] Meshing surface 2 (Transfinite)\n",
                        "Info    : [ 20%] Meshing surface 3 (Transfinite)\n",
                        "Info    : [ 20%] Meshing surface 4 (Transfinite)\n",
                        "Info    : [ 30%] Meshing surface 5 (Transfinite)\n",
                        "Info    : [ 30%] Meshing surface 6 (Transfinite)\n",
                        "Info    : [ 40%] Meshing surface 7 (Transfinite)\n",
                        "Info    : [ 40%] Meshing surface 8 (Transfinite)\n",
                        "Info    : [ 50%] Meshing surface 9 (Transfinite)\n",
                        "Info    : [ 50%] Meshing surface 10 (Transfinite)\n",
                        "Info    : [ 60%] Meshing surface 11 (Transfinite)\n",
                        "Info    : [ 60%] Meshing surface 12 (Transfinite)\n",
                        "Info    : [ 70%] Meshing surface 13 (Transfinite)\n",
                        "Info    : [ 70%] Meshing surface 14 (Transfinite)\n",
                        "Info    : [ 80%] Meshing surface 15 (Transfinite)\n",
                        "Info    : [ 80%] Meshing surface 16 (Transfinite)\n",
                        "Info    : [ 90%] Meshing surface 17 (Transfinite)\n",
                        "Info    : [ 90%] Meshing surface 18 (Transfinite)\n",
                        "Info    : [100%] Meshing surface 19 (Transfinite)\n",
                        "Info    : [100%] Meshing surface 20 (Transfinite)\n",
                        "Info    : Done meshing 2D (Wall 0.0079375s, CPU 0.006813s)\n",
                        "Info    : Meshing 3D...\n",
                        "Info    : Meshing volume 1 (Transfinite)\n",
                        "Info    : Meshing volume 2 (Transfinite)\n",
                        "Info    : Meshing volume 3 (Transfinite)\n",
                        "Info    : Meshing volume 4 (Transfinite)\n",
                        "Info    : Done meshing 3D (Wall 1.17309s, CPU 1.11037s)\n",
                        "Info    : Optimizing mesh...\n",
                        "Info    : Done optimizing mesh (Wall 0.00848567s, CPU 0.008097s)\n",
                        "Info    : 760500 nodes 806400 elements\n",
                        "-------------------------------------------------------\n",
                        "Version       : 4.13.1\n",
                        "License       : GNU General Public License\n",
                        "Build OS      : MacOSARM-sdk\n",
                        "Build date    : 20240524\n",
                        "Build host    : gmsh.info\n",
                        "Build options : 64Bit ALGLIB[contrib] ANN[contrib] Bamg Blas[petsc] Blossom Cgns DIntegration Dlopen DomHex Eigen[contrib] Fltk GMP Gmm[contrib] Hxt Jpeg Kbipack Lapack[petsc] MathEx[contrib] Med Mesh Metis[contrib] Mpeg Netgen Nii2mesh ONELAB ONELABMetamodel OpenCASCADE OpenCASCADE-CAF OpenGL OpenMP OptHom PETSc Parser Plugins Png Post QuadMeshingTools QuadTri Solver TetGen/BR TinyXML2[contrib] TouchBar Untangle Voro++[contrib] WinslowUntangler Zlib\n",
                        "FLTK version  : 1.4.0\n",
                        "PETSc version : 3.17.4 (real arithmtic)\n",
                        "OCC version   : 7.7.2\n",
                        "MED version   : 4.1.0\n",
                        "Packaged by   : geuzaine\n",
                        "Web site      : https://gmsh.info\n",
                        "Issue tracker : https://gitlab.onelab.info/gmsh/gmsh/issues\n",
                        "-------------------------------------------------------\n"
                    ]
                }
            ],
            "source": [
                "import cadquery as cq\n",
                "from meshql import GeometryQL, Split\n",
                "from meshql.utils.cq_cache import CQCache\n",
                "\n",
                "# clears the cache, comment out for performance\n",
                "CQCache.clear_cache()\n",
                "\n",
                "with GeometryQL.gmsh() as geo:\n",
                "    (\n",
                "        geo\n",
                "        .load(\n",
                "            (\n",
                "                cq.Workplane(\"XY\")\n",
                "                .box(10,10,10)\n",
                "                .rect(2, 2)\n",
                "                .cutThruAll()\n",
                "            ),\n",
                "            on_preprocess= lambda ql: (\n",
                "                Split(ql)\n",
                "                .from_plane(angle=(90,90,0))\n",
                "                .from_plane(angle=(-90,90,0))\n",
                "            ),\n",
                "        )\n",
                "        .setTransfiniteAuto(max_nodes=300)\n",
                "        .generate(3)\n",
                "        .show(\"gmsh\")\n",
                "    )"
            ]
        },
        {
            "cell_type": "markdown",
            "metadata": {},
            "source": [
                "# With Boundary Layer"
            ]
        },
        {
            "cell_type": "code",
            "execution_count": 2,
            "metadata": {},
            "outputs": [
                {
                    "name": "stdout",
                    "output_type": "stream",
                    "text": [
                        "Group cache exists, loading...\n"
                    ]
                },
                {
                    "ename": "TypeError",
                    "evalue": "GeometryQL.select() missing 1 required positional argument: 'set_operation'",
                    "output_type": "error",
                    "traceback": [
                        "\u001b[0;31m---------------------------------------------------------------------------\u001b[0m",
                        "\u001b[0;31mTypeError\u001b[0m                                 Traceback (most recent call last)",
                        "Cell \u001b[0;32mIn[2], line 24\u001b[0m\n\u001b[1;32m      2\u001b[0m \u001b[38;5;28;01mfrom\u001b[39;00m \u001b[38;5;21;01mmeshql\u001b[39;00m \u001b[38;5;28;01mimport\u001b[39;00m GeometryQL, Split\n\u001b[1;32m      5\u001b[0m \u001b[38;5;28;01mwith\u001b[39;00m GeometryQL\u001b[38;5;241m.\u001b[39mgmsh() \u001b[38;5;28;01mas\u001b[39;00m geo:\n\u001b[1;32m      6\u001b[0m     (\n\u001b[1;32m      7\u001b[0m         \u001b[43mgeo\u001b[49m\n\u001b[1;32m      8\u001b[0m \u001b[43m        \u001b[49m\u001b[38;5;241;43m.\u001b[39;49m\u001b[43mload\u001b[49m\u001b[43m(\u001b[49m\n\u001b[1;32m      9\u001b[0m \u001b[43m            \u001b[49m\u001b[43m(\u001b[49m\n\u001b[1;32m     10\u001b[0m \u001b[43m                \u001b[49m\u001b[43mcq\u001b[49m\u001b[38;5;241;43m.\u001b[39;49m\u001b[43mWorkplane\u001b[49m\u001b[43m(\u001b[49m\u001b[38;5;124;43m\"\u001b[39;49m\u001b[38;5;124;43mXY\u001b[39;49m\u001b[38;5;124;43m\"\u001b[39;49m\u001b[43m)\u001b[49m\n\u001b[1;32m     11\u001b[0m \u001b[43m                \u001b[49m\u001b[38;5;241;43m.\u001b[39;49m\u001b[43mbox\u001b[49m\u001b[43m(\u001b[49m\u001b[38;5;241;43m10\u001b[39;49m\u001b[43m,\u001b[49m\u001b[38;5;241;43m10\u001b[39;49m\u001b[43m,\u001b[49m\u001b[38;5;241;43m10\u001b[39;49m\u001b[43m)\u001b[49m\n\u001b[1;32m     12\u001b[0m \u001b[43m                \u001b[49m\u001b[38;5;241;43m.\u001b[39;49m\u001b[43mrect\u001b[49m\u001b[43m(\u001b[49m\u001b[38;5;241;43m2\u001b[39;49m\u001b[43m,\u001b[49m\u001b[43m \u001b[49m\u001b[38;5;241;43m2\u001b[39;49m\u001b[43m)\u001b[49m\n\u001b[1;32m     13\u001b[0m \u001b[43m                \u001b[49m\u001b[38;5;241;43m.\u001b[39;49m\u001b[43mcutThruAll\u001b[49m\u001b[43m(\u001b[49m\u001b[43m)\u001b[49m\n\u001b[1;32m     14\u001b[0m \u001b[43m            \u001b[49m\u001b[43m)\u001b[49m\u001b[43m,\u001b[49m\n\u001b[1;32m     15\u001b[0m \n\u001b[1;32m     16\u001b[0m \u001b[43m            \u001b[49m\u001b[43mon_preprocess\u001b[49m\u001b[43m \u001b[49m\u001b[38;5;241;43m=\u001b[39;49m\u001b[43m \u001b[49m\u001b[38;5;28;43;01mlambda\u001b[39;49;00m\u001b[43m \u001b[49m\u001b[43mql\u001b[49m\u001b[43m:\u001b[49m\u001b[43m \u001b[49m\u001b[43m(\u001b[49m\n\u001b[1;32m     17\u001b[0m \u001b[43m                \u001b[49m\u001b[43mSplit\u001b[49m\u001b[43m(\u001b[49m\u001b[43mql\u001b[49m\u001b[43m)\u001b[49m\n\u001b[1;32m     18\u001b[0m \u001b[43m                \u001b[49m\u001b[38;5;241;43m.\u001b[39;49m\u001b[43mfrom_plane\u001b[49m\u001b[43m(\u001b[49m\u001b[43mangle\u001b[49m\u001b[38;5;241;43m=\u001b[39;49m\u001b[43m(\u001b[49m\u001b[38;5;241;43m-\u001b[39;49m\u001b[38;5;241;43m90\u001b[39;49m\u001b[43m,\u001b[49m\u001b[38;5;241;43m90\u001b[39;49m\u001b[43m,\u001b[49m\u001b[38;5;241;43m0\u001b[39;49m\u001b[43m)\u001b[49m\u001b[43m)\u001b[49m\n\u001b[1;32m     19\u001b[0m \u001b[43m                \u001b[49m\u001b[38;5;241;43m.\u001b[39;49m\u001b[43mfrom_plane\u001b[49m\u001b[43m(\u001b[49m\u001b[43mangle\u001b[49m\u001b[38;5;241;43m=\u001b[39;49m\u001b[43m(\u001b[49m\u001b[38;5;241;43m90\u001b[39;49m\u001b[43m,\u001b[49m\u001b[38;5;241;43m90\u001b[39;49m\u001b[43m,\u001b[49m\u001b[38;5;241;43m0\u001b[39;49m\u001b[43m)\u001b[49m\u001b[43m)\u001b[49m\n\u001b[1;32m     20\u001b[0m \u001b[43m            \u001b[49m\u001b[43m)\u001b[49m\n\u001b[1;32m     21\u001b[0m \u001b[43m        \u001b[49m\u001b[43m)\u001b[49m\n\u001b[1;32m     22\u001b[0m \u001b[43m        \u001b[49m\u001b[38;5;241;43m.\u001b[39;49m\u001b[43msetTransfiniteAuto\u001b[49m\u001b[43m(\u001b[49m\u001b[38;5;241;43m300\u001b[39;49m\u001b[43m)\u001b[49m\n\u001b[1;32m     23\u001b[0m \n\u001b[0;32m---> 24\u001b[0m \u001b[43m        \u001b[49m\u001b[38;5;241;43m.\u001b[39;49m\u001b[43mfaces\u001b[49m\u001b[43m(\u001b[49m\u001b[38;5;28;43mtype\u001b[39;49m\u001b[38;5;241;43m=\u001b[39;49m\u001b[38;5;124;43m\"\u001b[39;49m\u001b[38;5;124;43minterior\u001b[39;49m\u001b[38;5;124;43m\"\u001b[39;49m\u001b[43m)\u001b[49m\n\u001b[1;32m     25\u001b[0m         \u001b[38;5;241m.\u001b[39maddBoundaryLayer(\u001b[38;5;241m0.001\u001b[39m)\n\u001b[1;32m     26\u001b[0m         \u001b[38;5;241m.\u001b[39mend()\n\u001b[1;32m     27\u001b[0m \n\u001b[1;32m     28\u001b[0m         \u001b[38;5;241m.\u001b[39mgenerate(\u001b[38;5;241m3\u001b[39m)\n\u001b[1;32m     29\u001b[0m         \u001b[38;5;241m.\u001b[39mshow(\u001b[38;5;124m\"\u001b[39m\u001b[38;5;124mgmsh\u001b[39m\u001b[38;5;124m\"\u001b[39m)\n\u001b[1;32m     30\u001b[0m     )\n",
                        "File \u001b[0;32m~/Documents/meshql/meshql/ql.py:150\u001b[0m, in \u001b[0;36mGeometryQL.faces\u001b[0;34m(self, selector, tag, type, indices, filter)\u001b[0m\n\u001b[1;32m    141\u001b[0m \u001b[38;5;28;01mdef\u001b[39;00m \u001b[38;5;21mfaces\u001b[39m(\n\u001b[1;32m    142\u001b[0m     \u001b[38;5;28mself\u001b[39m,\n\u001b[1;32m    143\u001b[0m     selector: Union[cq\u001b[38;5;241m.\u001b[39mSelector, \u001b[38;5;28mstr\u001b[39m, \u001b[38;5;28;01mNone\u001b[39;00m] \u001b[38;5;241m=\u001b[39m \u001b[38;5;28;01mNone\u001b[39;00m,\n\u001b[0;32m   (...)\u001b[0m\n\u001b[1;32m    147\u001b[0m     \u001b[38;5;28mfilter\u001b[39m: Optional[Callable[[CQObject], \u001b[38;5;28mbool\u001b[39m]] \u001b[38;5;241m=\u001b[39m \u001b[38;5;28;01mNone\u001b[39;00m,\n\u001b[1;32m    148\u001b[0m ):\n\u001b[1;32m    149\u001b[0m     selection \u001b[38;5;241m=\u001b[39m Selection(selector, tag, \u001b[38;5;28mtype\u001b[39m, indices, \u001b[38;5;28mfilter\u001b[39m)\n\u001b[0;32m--> 150\u001b[0m     \u001b[38;5;28;01mreturn\u001b[39;00m \u001b[38;5;28;43mself\u001b[39;49m\u001b[38;5;241;43m.\u001b[39;49m\u001b[43mselect\u001b[49m\u001b[43m(\u001b[49m\u001b[43mselection\u001b[49m\u001b[43m,\u001b[49m\u001b[43m \u001b[49m\u001b[38;5;124;43m\"\u001b[39;49m\u001b[38;5;124;43mface\u001b[39;49m\u001b[38;5;124;43m\"\u001b[39;49m\u001b[43m)\u001b[49m\n",
                        "\u001b[0;31mTypeError\u001b[0m: GeometryQL.select() missing 1 required positional argument: 'set_operation'"
                    ]
                },
                {
                    "ename": "",
                    "evalue": "",
                    "output_type": "error",
                    "traceback": [
                        "\u001b[1;31mThe Kernel crashed while executing code in the current cell or a previous cell. \n",
                        "\u001b[1;31mPlease review the code in the cell(s) to identify a possible cause of the failure. \n",
                        "\u001b[1;31mClick <a href='https://aka.ms/vscodeJupyterKernelCrash'>here</a> for more info. \n",
                        "\u001b[1;31mView Jupyter <a href='command:jupyter.viewOutput'>log</a> for further details."
                    ]
                }
            ],
            "source": [
                "import cadquery as cq\n",
                "from meshql import GeometryQL, Split\n",
                "\n",
                "\n",
                "with GeometryQL.gmsh() as geo:\n",
                "    (\n",
                "        geo\n",
                "        .load(\n",
                "            (\n",
                "                cq.Workplane(\"XY\")\n",
                "                .box(10,10,10)\n",
                "                .rect(2, 2)\n",
                "                .cutThruAll()\n",
                "            ),\n",
                "\n",
                "            on_preprocess = lambda ql: (\n",
                "                Split(ql)\n",
                "                .from_plane(angle=(-90,90,0))\n",
                "                .from_plane(angle=(90,90,0))\n",
                "            )\n",
                "        )\n",
                "        .setTransfiniteAuto(300)\n",
                "\n",
                "        .faces(type=\"interior\")\n",
                "        .addBoundaryLayer(0.001)\n",
                "        .end()\n",
                "\n",
                "        .generate(3)\n",
                "        .show(\"gmsh\")\n",
                "    )\n",
                "\n"
            ]
        }
    ],
    "metadata": {
        "kernelspec": {
            "display_name": "cadquery",
            "language": "python",
            "name": "python3"
        },
        "language_info": {
            "codemirror_mode": {
                "name": "ipython",
                "version": 3
            },
            "file_extension": ".py",
            "mimetype": "text/x-python",
            "name": "python",
            "nbconvert_exporter": "python",
            "pygments_lexer": "ipython3",
            "version": "3.11.8"
        },
        "orig_nbformat": 4
    },
    "nbformat": 4,
    "nbformat_minor": 2
}
